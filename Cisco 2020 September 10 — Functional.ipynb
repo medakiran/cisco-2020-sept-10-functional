{
 "cells": [
  {
   "cell_type": "markdown",
   "metadata": {},
   "source": [
    "# math function:\n",
    "\n",
    "`f(x) = x**2`"
   ]
  },
  {
   "cell_type": "markdown",
   "metadata": {},
   "source": [
    "### functional programming\n",
    "\n",
    "- treat all data as immutable (i.e., you cannot change it)\n",
    "- treat functions as data\n",
    "- keep assignments to a minimum, especially in functions"
   ]
  },
  {
   "cell_type": "code",
   "execution_count": 1,
   "metadata": {},
   "outputs": [
    {
     "data": {
      "text/plain": [
       "[2, 3, 4, 6, 7, 9, 10]"
      ]
     },
     "execution_count": 1,
     "metadata": {},
     "output_type": "execute_result"
    }
   ],
   "source": [
    "mylist = [10, 3, 7, 6, 9, 2, 4]\n",
    "\n",
    "# if I want to sort this list, I can use the \"sorted\" built-in function\n",
    "# it's written in a functional style\n",
    "sorted(mylist)"
   ]
  },
  {
   "cell_type": "code",
   "execution_count": 2,
   "metadata": {},
   "outputs": [
    {
     "data": {
      "text/plain": [
       "[10, 3, 7, 6, 9, 2, 4]"
      ]
     },
     "execution_count": 2,
     "metadata": {},
     "output_type": "execute_result"
    }
   ],
   "source": [
    "mylist"
   ]
  },
  {
   "cell_type": "code",
   "execution_count": 3,
   "metadata": {},
   "outputs": [
    {
     "data": {
      "text/plain": [
       "['This',\n",
       " 'is',\n",
       " 'a',\n",
       " 'bunch',\n",
       " 'of',\n",
       " 'words',\n",
       " 'for',\n",
       " 'my',\n",
       " 'Python',\n",
       " 'course',\n",
       " 'at',\n",
       " 'Cisco']"
      ]
     },
     "execution_count": 3,
     "metadata": {},
     "output_type": "execute_result"
    }
   ],
   "source": [
    "words = 'This is a bunch of words for my Python course at Cisco'.split()\n",
    "words"
   ]
  },
  {
   "cell_type": "code",
   "execution_count": 4,
   "metadata": {},
   "outputs": [
    {
     "data": {
      "text/plain": [
       "['Cisco',\n",
       " 'Python',\n",
       " 'This',\n",
       " 'a',\n",
       " 'at',\n",
       " 'bunch',\n",
       " 'course',\n",
       " 'for',\n",
       " 'is',\n",
       " 'my',\n",
       " 'of',\n",
       " 'words']"
      ]
     },
     "execution_count": 4,
     "metadata": {},
     "output_type": "execute_result"
    }
   ],
   "source": [
    "sorted(words)"
   ]
  },
  {
   "cell_type": "code",
   "execution_count": 5,
   "metadata": {},
   "outputs": [],
   "source": [
    "# what if I want to sort my words case-insensitively?\n",
    "\n",
    "# the \"sorted\" function takes an optional \"key\" keyword parameter\n",
    "# that parameter takes an argument which is a function"
   ]
  },
  {
   "cell_type": "code",
   "execution_count": 6,
   "metadata": {},
   "outputs": [
    {
     "data": {
      "text/plain": [
       "True"
      ]
     },
     "execution_count": 6,
     "metadata": {},
     "output_type": "execute_result"
    }
   ],
   "source": [
    "'abc' < 'abd'"
   ]
  },
  {
   "cell_type": "code",
   "execution_count": 7,
   "metadata": {},
   "outputs": [
    {
     "data": {
      "text/plain": [
       "False"
      ]
     },
     "execution_count": 7,
     "metadata": {},
     "output_type": "execute_result"
    }
   ],
   "source": [
    "'abc' < 'aba'"
   ]
  },
  {
   "cell_type": "code",
   "execution_count": 8,
   "metadata": {},
   "outputs": [
    {
     "data": {
      "text/plain": [
       "['a',\n",
       " 'is',\n",
       " 'of',\n",
       " 'my',\n",
       " 'at',\n",
       " 'for',\n",
       " 'This',\n",
       " 'bunch',\n",
       " 'words',\n",
       " 'Cisco',\n",
       " 'Python',\n",
       " 'course']"
      ]
     },
     "execution_count": 8,
     "metadata": {},
     "output_type": "execute_result"
    }
   ],
   "source": [
    "# instead of comparing word1 and word2, I want to compare f(word1) and f(word2)\n",
    "\n",
    "# to sort the words by their lengths, I can say:\n",
    "\n",
    "sorted(words, key=len)"
   ]
  },
  {
   "cell_type": "code",
   "execution_count": 9,
   "metadata": {},
   "outputs": [
    {
     "data": {
      "text/plain": [
       "['a',\n",
       " 'at',\n",
       " 'bunch',\n",
       " 'Cisco',\n",
       " 'course',\n",
       " 'for',\n",
       " 'is',\n",
       " 'my',\n",
       " 'of',\n",
       " 'Python',\n",
       " 'This',\n",
       " 'words']"
      ]
     },
     "execution_count": 9,
     "metadata": {},
     "output_type": "execute_result"
    }
   ],
   "source": [
    "sorted(words, key=str.lower)"
   ]
  },
  {
   "cell_type": "code",
   "execution_count": 10,
   "metadata": {
    "scrolled": true
   },
   "outputs": [
    {
     "name": "stdout",
     "output_type": "stream",
     "text": [
      "Now checking len of This\n",
      "Now checking len of is\n",
      "Now checking len of a\n",
      "Now checking len of bunch\n",
      "Now checking len of of\n",
      "Now checking len of words\n",
      "Now checking len of for\n",
      "Now checking len of my\n",
      "Now checking len of Python\n",
      "Now checking len of course\n",
      "Now checking len of at\n",
      "Now checking len of Cisco\n"
     ]
    },
    {
     "data": {
      "text/plain": [
       "['a',\n",
       " 'is',\n",
       " 'of',\n",
       " 'my',\n",
       " 'at',\n",
       " 'for',\n",
       " 'This',\n",
       " 'bunch',\n",
       " 'words',\n",
       " 'Cisco',\n",
       " 'Python',\n",
       " 'course']"
      ]
     },
     "execution_count": 10,
     "metadata": {},
     "output_type": "execute_result"
    }
   ],
   "source": [
    "def by_very_loud_len(one_word):\n",
    "    print(f'Now checking len of {one_word}')\n",
    "    return len(one_word)\n",
    "\n",
    "sorted(words, key=by_very_loud_len)"
   ]
  },
  {
   "cell_type": "code",
   "execution_count": null,
   "metadata": {},
   "outputs": [],
   "source": [
    "compare A and B\n",
    "\n",
    "instead, we'll compare f(A) and f(B)\n",
    "\n",
    "meaning, len(A) and len(B)"
   ]
  },
  {
   "cell_type": "code",
   "execution_count": 11,
   "metadata": {},
   "outputs": [
    {
     "name": "stdout",
     "output_type": "stream",
     "text": [
      "4\n",
      "2\n",
      "1\n",
      "5\n",
      "2\n",
      "5\n",
      "3\n",
      "2\n",
      "6\n",
      "6\n",
      "2\n",
      "5\n"
     ]
    }
   ],
   "source": [
    "def do_nothing_sorted_imposter(sequence, key):\n",
    "    for one_item in sequence:\n",
    "        print(key(one_item))\n",
    "        \n",
    "do_nothing_sorted_imposter(words, key=len)        "
   ]
  },
  {
   "cell_type": "markdown",
   "metadata": {},
   "source": [
    "# Exercise\n",
    "\n",
    "Ask the user to enter a sentence. Sort the words in the sentence by the number of vowels in the word.\n",
    "\n",
    "So you'll need to write a `by_vowel_count` function, and then you'll need to sort by the vowel count.\n",
    "\n"
   ]
  },
  {
   "cell_type": "code",
   "execution_count": 12,
   "metadata": {},
   "outputs": [
    {
     "name": "stdout",
     "output_type": "stream",
     "text": [
      "Enter a sentence: this is a tremendously impressive example\n"
     ]
    },
    {
     "data": {
      "text/plain": [
       "['this', 'is', 'a', 'example', 'tremendously', 'impressive']"
      ]
     },
     "execution_count": 12,
     "metadata": {},
     "output_type": "execute_result"
    }
   ],
   "source": [
    "s = input(\"Enter a sentence: \").split()\n",
    "\n",
    "def by_vowel_count(one_word):\n",
    "    total = 0\n",
    "    for one_character in one_word.lower():\n",
    "        if one_character in 'aeiou':\n",
    "            total += 1\n",
    "    return total\n",
    "\n",
    "sorted(s, key=by_vowel_count)"
   ]
  },
  {
   "cell_type": "code",
   "execution_count": 14,
   "metadata": {},
   "outputs": [
    {
     "data": {
      "text/plain": [
       "['a', 'b', 'c', 'd', 'e']"
      ]
     },
     "execution_count": 14,
     "metadata": {},
     "output_type": "execute_result"
    }
   ],
   "source": [
    "d = {'a':10, 'b':5, 'c':7, 'd':3, 'e':8}\n",
    "\n",
    "sorted(d)  # since a for loop on a dict returns the keys, sorted also sorts/returns the keys"
   ]
  },
  {
   "cell_type": "code",
   "execution_count": 15,
   "metadata": {},
   "outputs": [
    {
     "data": {
      "text/plain": [
       "[('a', 10), ('b', 5), ('c', 7), ('d', 3), ('e', 8)]"
      ]
     },
     "execution_count": 15,
     "metadata": {},
     "output_type": "execute_result"
    }
   ],
   "source": [
    "sorted(d.items())  # .items returns tuples of key-value pairs"
   ]
  },
  {
   "cell_type": "code",
   "execution_count": 16,
   "metadata": {},
   "outputs": [
    {
     "data": {
      "text/plain": [
       "[('d', 3), ('b', 5), ('c', 7), ('e', 8), ('a', 10)]"
      ]
     },
     "execution_count": 16,
     "metadata": {},
     "output_type": "execute_result"
    }
   ],
   "source": [
    "# what if I want to sort by the dict's values?\n",
    "\n",
    "def by_value(t):\n",
    "    return t[1]\n",
    "\n",
    "sorted(d.items(), key=by_value)"
   ]
  },
  {
   "cell_type": "code",
   "execution_count": 17,
   "metadata": {},
   "outputs": [],
   "source": [
    "# lambda\n",
    "\n",
    "# def does two things:\n",
    "# (1) defines a function object\n",
    "# (2) assigns that function to \"square\"\n",
    "\n",
    "def square(x):\n",
    "    return x ** 2"
   ]
  },
  {
   "cell_type": "code",
   "execution_count": 18,
   "metadata": {},
   "outputs": [
    {
     "data": {
      "text/plain": [
       "25"
      ]
     },
     "execution_count": 18,
     "metadata": {},
     "output_type": "execute_result"
    }
   ],
   "source": [
    "square(5)"
   ]
  },
  {
   "cell_type": "code",
   "execution_count": 19,
   "metadata": {},
   "outputs": [
    {
     "data": {
      "text/plain": [
       "121"
      ]
     },
     "execution_count": 19,
     "metadata": {},
     "output_type": "execute_result"
    }
   ],
   "source": [
    "square(11)"
   ]
  },
  {
   "cell_type": "code",
   "execution_count": 20,
   "metadata": {},
   "outputs": [],
   "source": [
    "# lambda returns a function object,  but doesn't assign the function to a variable\n",
    "# it returns an anonymous function!"
   ]
  },
  {
   "cell_type": "code",
   "execution_count": 21,
   "metadata": {},
   "outputs": [
    {
     "data": {
      "text/plain": [
       "<function __main__.<lambda>(x)>"
      ]
     },
     "execution_count": 21,
     "metadata": {},
     "output_type": "execute_result"
    }
   ],
   "source": [
    "lambda x: x**2    # this is the same function as \"square\", above... but anonymous"
   ]
  },
  {
   "cell_type": "code",
   "execution_count": 22,
   "metadata": {},
   "outputs": [
    {
     "data": {
      "text/plain": [
       "4"
      ]
     },
     "execution_count": 22,
     "metadata": {},
     "output_type": "execute_result"
    }
   ],
   "source": [
    "len('abcd')"
   ]
  },
  {
   "cell_type": "code",
   "execution_count": 23,
   "metadata": {},
   "outputs": [],
   "source": [
    "square2 = lambda x: x**2   # don't do this!"
   ]
  },
  {
   "cell_type": "code",
   "execution_count": 24,
   "metadata": {},
   "outputs": [
    {
     "data": {
      "text/plain": [
       "25"
      ]
     },
     "execution_count": 24,
     "metadata": {},
     "output_type": "execute_result"
    }
   ],
   "source": [
    "square2(5)"
   ]
  },
  {
   "cell_type": "code",
   "execution_count": 25,
   "metadata": {},
   "outputs": [
    {
     "data": {
      "text/plain": [
       "25"
      ]
     },
     "execution_count": 25,
     "metadata": {},
     "output_type": "execute_result"
    }
   ],
   "source": [
    "(lambda x: x**2)(5)   # execute the function!"
   ]
  },
  {
   "cell_type": "code",
   "execution_count": 27,
   "metadata": {},
   "outputs": [
    {
     "data": {
      "text/plain": [
       "[('d', 3), ('b', 5), ('c', 7), ('e', 8), ('a', 10)]"
      ]
     },
     "execution_count": 27,
     "metadata": {},
     "output_type": "execute_result"
    }
   ],
   "source": [
    "sorted(d.items(), key=lambda t: t[1])"
   ]
  },
  {
   "cell_type": "code",
   "execution_count": 28,
   "metadata": {},
   "outputs": [],
   "source": [
    "import operator"
   ]
  },
  {
   "cell_type": "code",
   "execution_count": 29,
   "metadata": {},
   "outputs": [],
   "source": [
    "s = 'abcdefghijkl'\n",
    "\n",
    "get_5 = operator.itemgetter(5)"
   ]
  },
  {
   "cell_type": "code",
   "execution_count": 30,
   "metadata": {},
   "outputs": [
    {
     "data": {
      "text/plain": [
       "[('d', 3), ('b', 5), ('c', 7), ('e', 8), ('a', 10)]"
      ]
     },
     "execution_count": 30,
     "metadata": {},
     "output_type": "execute_result"
    }
   ],
   "source": [
    "# running get_5(d)  is the same as saying d[5]\n",
    "\n",
    "sorted(d.items(), key=operator.itemgetter(1))"
   ]
  },
  {
   "cell_type": "markdown",
   "metadata": {},
   "source": [
    "# Exercise: Using operator.itemgetter\n",
    "\n",
    "1. Define a list of lists, describing people.  Each inner list will contain two elements, first name and last name.\n",
    "2. Sort the people (and print them) in phone-book order -- order by last name, and if the last name is the same, then by first name.\n",
    "\n"
   ]
  },
  {
   "cell_type": "code",
   "execution_count": 31,
   "metadata": {},
   "outputs": [
    {
     "data": {
      "text/plain": [
       "[['Amotz', 'Lerner-Friedman'],\n",
       " ['Atara', 'Lerner-Friedman'],\n",
       " ['Reuven', 'Lerner'],\n",
       " ['Shikma', 'Lerner-Friedman']]"
      ]
     },
     "execution_count": 31,
     "metadata": {},
     "output_type": "execute_result"
    }
   ],
   "source": [
    "people = [['Reuven', 'Lerner'],\n",
    "         ['Atara', 'Lerner-Friedman'],\n",
    "         ['Shikma', 'Lerner-Friedman'],\n",
    "         ['Amotz', 'Lerner-Friedman']]\n",
    "\n",
    "sorted(people)"
   ]
  },
  {
   "cell_type": "code",
   "execution_count": 32,
   "metadata": {},
   "outputs": [
    {
     "data": {
      "text/plain": [
       "[['Reuven', 'Lerner'],\n",
       " ['Atara', 'Lerner-Friedman'],\n",
       " ['Shikma', 'Lerner-Friedman'],\n",
       " ['Amotz', 'Lerner-Friedman']]"
      ]
     },
     "execution_count": 32,
     "metadata": {},
     "output_type": "execute_result"
    }
   ],
   "source": [
    "import operator\n",
    "\n",
    "sorted(people, key=operator.itemgetter(1))"
   ]
  },
  {
   "cell_type": "code",
   "execution_count": 33,
   "metadata": {},
   "outputs": [
    {
     "data": {
      "text/plain": [
       "[['Reuven', 'Lerner'],\n",
       " ['Amotz', 'Lerner-Friedman'],\n",
       " ['Atara', 'Lerner-Friedman'],\n",
       " ['Shikma', 'Lerner-Friedman']]"
      ]
     },
     "execution_count": 33,
     "metadata": {},
     "output_type": "execute_result"
    }
   ],
   "source": [
    "sorted(people, key=operator.itemgetter(1, 0))"
   ]
  },
  {
   "cell_type": "code",
   "execution_count": 34,
   "metadata": {},
   "outputs": [],
   "source": [
    "# the three  most important functions in functional programming are:\n",
    "# - map\n",
    "# - filter\n",
    "# - reduce"
   ]
  },
  {
   "cell_type": "code",
   "execution_count": 37,
   "metadata": {},
   "outputs": [
    {
     "data": {
      "text/plain": [
       "['1', '3', '5', '7', '9']"
      ]
     },
     "execution_count": 37,
     "metadata": {},
     "output_type": "execute_result"
    }
   ],
   "source": [
    "# comprehension\n",
    "\n",
    "[str(i)          # this is for transformations, but no filtering -- map\n",
    "for i in range(10)\n",
    "if i % 2]       #  this is for filtering, but no transformation -- filter"
   ]
  },
  {
   "cell_type": "code",
   "execution_count": 39,
   "metadata": {},
   "outputs": [
    {
     "data": {
      "text/plain": [
       "['0', '1', '2', '3', '4', '5', '6', '7', '8', '9']"
      ]
     },
     "execution_count": 39,
     "metadata": {},
     "output_type": "execute_result"
    }
   ],
   "source": [
    "# map applies a function to each element of a sequence, transforming (mapping) it\n",
    "\n",
    "list(map(str, range(10)))"
   ]
  },
  {
   "cell_type": "code",
   "execution_count": 40,
   "metadata": {},
   "outputs": [
    {
     "data": {
      "text/plain": [
       "[1, 3, 5, 7, 9]"
      ]
     },
     "execution_count": 40,
     "metadata": {},
     "output_type": "execute_result"
    }
   ],
   "source": [
    "# filter applies a function to each element, and if the function returns True, \n",
    "# then the item is put in the output list\n",
    "\n",
    "list(filter(lambda i: i%2, range(10)))"
   ]
  },
  {
   "cell_type": "code",
   "execution_count": 41,
   "metadata": {},
   "outputs": [
    {
     "data": {
      "text/plain": [
       "['1', '3', '5', '7', '9']"
      ]
     },
     "execution_count": 41,
     "metadata": {},
     "output_type": "execute_result"
    }
   ],
   "source": [
    "list(map(str, filter(lambda i: i%2, \n",
    "                     range(10))))"
   ]
  },
  {
   "cell_type": "code",
   "execution_count": 43,
   "metadata": {},
   "outputs": [
    {
     "data": {
      "text/plain": [
       "[3, 1, 3]"
      ]
     },
     "execution_count": 43,
     "metadata": {},
     "output_type": "execute_result"
    }
   ],
   "source": [
    "points = {'a':1, 'b':2, 'c':3, 'd':3, 'e':1}\n",
    "\n",
    "list(map(lambda letter: points[letter], 'dad'))"
   ]
  },
  {
   "cell_type": "code",
   "execution_count": 44,
   "metadata": {},
   "outputs": [],
   "source": [
    "# reduce\n",
    "\n",
    "# Google has a system known as map-reduce"
   ]
  },
  {
   "cell_type": "code",
   "execution_count": 47,
   "metadata": {},
   "outputs": [
    {
     "name": "stdout",
     "output_type": "stream",
     "text": [
      "Enter first number: 5\n",
      "Enter operator: -\n",
      "Enter second number: 10\n",
      "-5\n"
     ]
    }
   ],
   "source": [
    "# I want to ask the user to enter two numbers and an operator, and\n",
    "# we should be able to calculate the expression\n",
    "\n",
    "first = input(\"Enter first number: \")\n",
    "op = input(\"Enter operator: \")\n",
    "second = input(\"Enter second number: \")\n",
    "\n",
    "def add(a, b):\n",
    "    return a + b\n",
    "\n",
    "def sub(a, b):\n",
    "    return a - b\n",
    "\n",
    "if op == '+':\n",
    "    print(add(int(first), int(second)))\n",
    "    \n",
    "elif op == '-':\n",
    "    print(sub(int(first), int(second)))\n",
    "    \n",
    "else:\n",
    "    print(f'No operator {op}')"
   ]
  },
  {
   "cell_type": "code",
   "execution_count": 51,
   "metadata": {},
   "outputs": [
    {
     "name": "stdout",
     "output_type": "stream",
     "text": [
      "Enter first number: 6\n",
      "Enter operator: * 2\n",
      "Enter second number: 2\n",
      "No operator * 2\n"
     ]
    }
   ],
   "source": [
    "# dispatch table -- dictionary\n",
    "\n",
    "# I want to ask the user to enter two numbers and an operator, and\n",
    "# we should be able to calculate the expression\n",
    "\n",
    "first = input(\"Enter first number: \")\n",
    "op = input(\"Enter operator: \")\n",
    "second = input(\"Enter second number: \")\n",
    "\n",
    "def add(a, b):\n",
    "    return a + b\n",
    "\n",
    "def sub(a, b):\n",
    "    return a - b\n",
    "\n",
    "operations = {'+': add,\n",
    "              '-':sub}\n",
    "\n",
    "if op in operations:\n",
    "    print(operations[op](int(first),\n",
    "                  int(second)))\n",
    "    \n",
    "else:\n",
    "    print(f'No operator {op}')"
   ]
  },
  {
   "cell_type": "code",
   "execution_count": 52,
   "metadata": {},
   "outputs": [
    {
     "name": "stdout",
     "output_type": "stream",
     "text": [
      "Enter first number: 10\n",
      "Enter operator: +\n",
      "Enter second number: 9\n",
      "19\n"
     ]
    }
   ],
   "source": [
    "# dispatch table -- dictionary\n",
    "\n",
    "# I want to ask the user to enter two numbers and an operator, and\n",
    "# we should be able to calculate the expression\n",
    "\n",
    "first = input(\"Enter first number: \")\n",
    "op = input(\"Enter operator: \")\n",
    "second = input(\"Enter second number: \")\n",
    "\n",
    "operations = {'+': lambda a,b: a+b,\n",
    "              '-': lambda a,b: a-b}\n",
    "\n",
    "if op in operations:\n",
    "    print(operations[op](int(first),\n",
    "                  int(second)))\n",
    "    \n",
    "else:\n",
    "    print(f'No operator {op}')"
   ]
  },
  {
   "cell_type": "code",
   "execution_count": 53,
   "metadata": {},
   "outputs": [
    {
     "name": "stdout",
     "output_type": "stream",
     "text": [
      "Enter first number: 10\n",
      "Enter operator: /\n",
      "Enter second number: 6\n",
      "1.6666666666666667\n"
     ]
    }
   ],
   "source": [
    "import operator\n",
    "\n",
    "first = input(\"Enter first number: \")\n",
    "op = input(\"Enter operator: \")\n",
    "second = input(\"Enter second number: \")\n",
    "\n",
    "operations = {'+': operator.add,\n",
    "              '-': operator.sub,\n",
    "              '*': operator.mul,\n",
    "              '/': operator.truediv}\n",
    "              \n",
    "\n",
    "if op in operations:\n",
    "    print(operations[op](int(first),\n",
    "                         int(second)))\n",
    "    \n",
    "else:\n",
    "    print(f'No operator {op}')"
   ]
  },
  {
   "cell_type": "markdown",
   "metadata": {},
   "source": [
    "# Exercise\n",
    "\n",
    "1. Define a dict with a few string methods available. That is, the keys should be the nickname you want to give the string method, and the values should be the methods themselves. \n",
    "2. Note: It's probaly a good idea to only choose methods that take no arguments other than the string itself.\n",
    "3. Ask the user to enter a string. Then ask the user to choose a method via its nickname (i.e., the key).\n",
    "4. Print the result of invoking the method on the string."
   ]
  },
  {
   "cell_type": "code",
   "execution_count": null,
   "metadata": {},
   "outputs": [],
   "source": [
    "ops = {'lower': str.lower,\n",
    "      'capitalize': str.capitalize,\n",
    "      'upper': str.upper}\n",
    "\n"
   ]
  }
 ],
 "metadata": {
  "kernelspec": {
   "display_name": "Python 3",
   "language": "python",
   "name": "python3"
  },
  "language_info": {
   "codemirror_mode": {
    "name": "ipython",
    "version": 3
   },
   "file_extension": ".py",
   "mimetype": "text/x-python",
   "name": "python",
   "nbconvert_exporter": "python",
   "pygments_lexer": "ipython3",
   "version": "3.8.5"
  }
 },
 "nbformat": 4,
 "nbformat_minor": 4
}
