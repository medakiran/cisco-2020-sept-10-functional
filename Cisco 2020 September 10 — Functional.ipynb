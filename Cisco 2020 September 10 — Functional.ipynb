{
 "cells": [
  {
   "cell_type": "markdown",
   "metadata": {},
   "source": [
    "# math function:\n",
    "\n",
    "`f(x) = x**2`"
   ]
  },
  {
   "cell_type": "markdown",
   "metadata": {},
   "source": [
    "### functional programming\n",
    "\n",
    "- treat all data as immutable (i.e., you cannot change it)\n",
    "- treat functions as data\n",
    "- keep assignments to a minimum, especially in functions"
   ]
  },
  {
   "cell_type": "code",
   "execution_count": 1,
   "metadata": {},
   "outputs": [
    {
     "data": {
      "text/plain": [
       "[2, 3, 4, 6, 7, 9, 10]"
      ]
     },
     "execution_count": 1,
     "metadata": {},
     "output_type": "execute_result"
    }
   ],
   "source": [
    "mylist = [10, 3, 7, 6, 9, 2, 4]\n",
    "\n",
    "# if I want to sort this list, I can use the \"sorted\" built-in function\n",
    "# it's written in a functional style\n",
    "sorted(mylist)"
   ]
  },
  {
   "cell_type": "code",
   "execution_count": 2,
   "metadata": {},
   "outputs": [
    {
     "data": {
      "text/plain": [
       "[10, 3, 7, 6, 9, 2, 4]"
      ]
     },
     "execution_count": 2,
     "metadata": {},
     "output_type": "execute_result"
    }
   ],
   "source": [
    "mylist"
   ]
  },
  {
   "cell_type": "code",
   "execution_count": 3,
   "metadata": {},
   "outputs": [
    {
     "data": {
      "text/plain": [
       "['This',\n",
       " 'is',\n",
       " 'a',\n",
       " 'bunch',\n",
       " 'of',\n",
       " 'words',\n",
       " 'for',\n",
       " 'my',\n",
       " 'Python',\n",
       " 'course',\n",
       " 'at',\n",
       " 'Cisco']"
      ]
     },
     "execution_count": 3,
     "metadata": {},
     "output_type": "execute_result"
    }
   ],
   "source": [
    "words = 'This is a bunch of words for my Python course at Cisco'.split()\n",
    "words"
   ]
  },
  {
   "cell_type": "code",
   "execution_count": 4,
   "metadata": {},
   "outputs": [
    {
     "data": {
      "text/plain": [
       "['Cisco',\n",
       " 'Python',\n",
       " 'This',\n",
       " 'a',\n",
       " 'at',\n",
       " 'bunch',\n",
       " 'course',\n",
       " 'for',\n",
       " 'is',\n",
       " 'my',\n",
       " 'of',\n",
       " 'words']"
      ]
     },
     "execution_count": 4,
     "metadata": {},
     "output_type": "execute_result"
    }
   ],
   "source": [
    "sorted(words)"
   ]
  },
  {
   "cell_type": "code",
   "execution_count": 5,
   "metadata": {},
   "outputs": [],
   "source": [
    "# what if I want to sort my words case-insensitively?\n",
    "\n",
    "# the \"sorted\" function takes an optional \"key\" keyword parameter\n",
    "# that parameter takes an argument which is a function"
   ]
  },
  {
   "cell_type": "code",
   "execution_count": 6,
   "metadata": {},
   "outputs": [
    {
     "data": {
      "text/plain": [
       "True"
      ]
     },
     "execution_count": 6,
     "metadata": {},
     "output_type": "execute_result"
    }
   ],
   "source": [
    "'abc' < 'abd'"
   ]
  },
  {
   "cell_type": "code",
   "execution_count": 7,
   "metadata": {},
   "outputs": [
    {
     "data": {
      "text/plain": [
       "False"
      ]
     },
     "execution_count": 7,
     "metadata": {},
     "output_type": "execute_result"
    }
   ],
   "source": [
    "'abc' < 'aba'"
   ]
  },
  {
   "cell_type": "code",
   "execution_count": 8,
   "metadata": {},
   "outputs": [
    {
     "data": {
      "text/plain": [
       "['a',\n",
       " 'is',\n",
       " 'of',\n",
       " 'my',\n",
       " 'at',\n",
       " 'for',\n",
       " 'This',\n",
       " 'bunch',\n",
       " 'words',\n",
       " 'Cisco',\n",
       " 'Python',\n",
       " 'course']"
      ]
     },
     "execution_count": 8,
     "metadata": {},
     "output_type": "execute_result"
    }
   ],
   "source": [
    "# instead of comparing word1 and word2, I want to compare f(word1) and f(word2)\n",
    "\n",
    "# to sort the words by their lengths, I can say:\n",
    "\n",
    "sorted(words, key=len)"
   ]
  },
  {
   "cell_type": "code",
   "execution_count": 9,
   "metadata": {},
   "outputs": [
    {
     "data": {
      "text/plain": [
       "['a',\n",
       " 'at',\n",
       " 'bunch',\n",
       " 'Cisco',\n",
       " 'course',\n",
       " 'for',\n",
       " 'is',\n",
       " 'my',\n",
       " 'of',\n",
       " 'Python',\n",
       " 'This',\n",
       " 'words']"
      ]
     },
     "execution_count": 9,
     "metadata": {},
     "output_type": "execute_result"
    }
   ],
   "source": [
    "sorted(words, key=str.lower)"
   ]
  },
  {
   "cell_type": "code",
   "execution_count": 10,
   "metadata": {
    "scrolled": true
   },
   "outputs": [
    {
     "name": "stdout",
     "output_type": "stream",
     "text": [
      "Now checking len of This\n",
      "Now checking len of is\n",
      "Now checking len of a\n",
      "Now checking len of bunch\n",
      "Now checking len of of\n",
      "Now checking len of words\n",
      "Now checking len of for\n",
      "Now checking len of my\n",
      "Now checking len of Python\n",
      "Now checking len of course\n",
      "Now checking len of at\n",
      "Now checking len of Cisco\n"
     ]
    },
    {
     "data": {
      "text/plain": [
       "['a',\n",
       " 'is',\n",
       " 'of',\n",
       " 'my',\n",
       " 'at',\n",
       " 'for',\n",
       " 'This',\n",
       " 'bunch',\n",
       " 'words',\n",
       " 'Cisco',\n",
       " 'Python',\n",
       " 'course']"
      ]
     },
     "execution_count": 10,
     "metadata": {},
     "output_type": "execute_result"
    }
   ],
   "source": [
    "def by_very_loud_len(one_word):\n",
    "    print(f'Now checking len of {one_word}')\n",
    "    return len(one_word)\n",
    "\n",
    "sorted(words, key=by_very_loud_len)"
   ]
  },
  {
   "cell_type": "code",
   "execution_count": null,
   "metadata": {},
   "outputs": [],
   "source": [
    "compare A and B\n",
    "\n",
    "instead, we'll compare f(A) and f(B)\n",
    "\n",
    "meaning, len(A) and len(B)"
   ]
  },
  {
   "cell_type": "code",
   "execution_count": 11,
   "metadata": {},
   "outputs": [
    {
     "name": "stdout",
     "output_type": "stream",
     "text": [
      "4\n",
      "2\n",
      "1\n",
      "5\n",
      "2\n",
      "5\n",
      "3\n",
      "2\n",
      "6\n",
      "6\n",
      "2\n",
      "5\n"
     ]
    }
   ],
   "source": [
    "def do_nothing_sorted_imposter(sequence, key):\n",
    "    for one_item in sequence:\n",
    "        print(key(one_item))\n",
    "        \n",
    "do_nothing_sorted_imposter(words, key=len)        "
   ]
  },
  {
   "cell_type": "markdown",
   "metadata": {},
   "source": [
    "# Exercise\n",
    "\n",
    "Ask the user to enter a sentence. Sort the words in the sentence by the number of vowels in the word.\n",
    "\n"
   ]
  }
 ],
 "metadata": {
  "kernelspec": {
   "display_name": "Python 3",
   "language": "python",
   "name": "python3"
  },
  "language_info": {
   "codemirror_mode": {
    "name": "ipython",
    "version": 3
   },
   "file_extension": ".py",
   "mimetype": "text/x-python",
   "name": "python",
   "nbconvert_exporter": "python",
   "pygments_lexer": "ipython3",
   "version": "3.8.5"
  }
 },
 "nbformat": 4,
 "nbformat_minor": 4
}
